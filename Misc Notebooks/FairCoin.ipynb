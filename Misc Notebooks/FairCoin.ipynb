{
 "cells": [
  {
   "cell_type": "markdown",
   "id": "88c05ea6-3fd6-4d2d-84f6-33f7a024248d",
   "metadata": {},
   "source": [
    "Suppose I give you a coin that is biased either 60-40 or 40-60. How many times do you have to flip it to determine with 95% accuracy which is the case?\n",
    "\n",
    "Lets take an adaptive bayesian approach, starting with a uniform prior and updating after each coin toss until we get a 95% certainty of one or the other.\n",
    "\n",
    "prior - x1 = coin 60-40, x2 = coin 40-60 p(x1)=p(x2)=0.5"
   ]
  },
  {
   "cell_type": "code",
   "execution_count": 14,
   "id": "c7c9a590-eb02-4738-8533-16657fbfb891",
   "metadata": {},
   "outputs": [
    {
     "name": "stdout",
     "output_type": "stream",
     "text": [
      "37.0\n"
     ]
    }
   ],
   "source": [
    "import numpy as np\n",
    "import random\n",
    "\n",
    "trial_list = []\n",
    "for i in range(1000):\n",
    "    uncertain = True\n",
    "    prob = random.sample([0.6,0.4],1)[0]\n",
    "    prior_x1 = prior_x2 = 0.5\n",
    "    num_trials = 0\n",
    "    while uncertain:\n",
    "        num_trials += 1\n",
    "        coin_toss = np.random.binomial(1,0.4)\n",
    "        \n",
    "        #unnormalised\n",
    "        post_x1 = prior_x1 * 0.6**coin_toss * 0.4**(1-coin_toss)\n",
    "        post_x2 = prior_x2 * 0.4**coin_toss * 0.6**(1-coin_toss)\n",
    "    \n",
    "        #Normalised\n",
    "        prior_x1 = post_x1 / (post_x1 + post_x2)\n",
    "        prior_x2 = post_x2 / (post_x1 + post_x2)\n",
    "    \n",
    "        if prior_x1 > 0.95:\n",
    "            #print(f'Coin 60-40, {num_trials} flips')\n",
    "            uncertain = False\n",
    "        elif prior_x2 > 0.95:\n",
    "            #print(f'Coin 40-60, {num_trials} flips')\n",
    "            uncertain = False\n",
    "            \n",
    "    trial_list.append(num_trials)\n",
    "\n",
    "print(np.ceil(sum(trial_list) / 1000))"
   ]
  },
  {
   "cell_type": "code",
   "execution_count": null,
   "id": "e92ea75b-1141-41f2-8957-dd882e371672",
   "metadata": {},
   "outputs": [],
   "source": []
  },
  {
   "cell_type": "code",
   "execution_count": null,
   "id": "194c2060-551c-4c27-b07c-ad9d4c90ad82",
   "metadata": {},
   "outputs": [],
   "source": []
  }
 ],
 "metadata": {
  "kernelspec": {
   "display_name": "Python 3 (ipykernel)",
   "language": "python",
   "name": "python3"
  },
  "language_info": {
   "codemirror_mode": {
    "name": "ipython",
    "version": 3
   },
   "file_extension": ".py",
   "mimetype": "text/x-python",
   "name": "python",
   "nbconvert_exporter": "python",
   "pygments_lexer": "ipython3",
   "version": "3.9.19"
  }
 },
 "nbformat": 4,
 "nbformat_minor": 5
}
