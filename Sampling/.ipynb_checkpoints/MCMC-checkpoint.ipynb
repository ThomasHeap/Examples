{
 "cells": [
  {
   "cell_type": "markdown",
   "id": "30b99438",
   "metadata": {},
   "source": [
    "## MCMC"
   ]
  },
  {
   "cell_type": "code",
   "execution_count": 8,
   "id": "7059377b",
   "metadata": {},
   "outputs": [],
   "source": [
    "import numpy as np\n",
    "import matplotlib.pyplot as plt\n",
    "from scipy.stats import multivariate_normal"
   ]
  },
  {
   "cell_type": "code",
   "execution_count": 80,
   "id": "e6a25f4f",
   "metadata": {},
   "outputs": [],
   "source": [
    "def MH_sampler(p, q, start, num_samples, warmup = 0):\n",
    "    \"\"\"\n",
    "    Metropolis Hastings MCMC Sampler\n",
    "    \"\"\"   \n",
    "    \n",
    "    samples = [start]\n",
    "    for i in range(num_samples + warmup):\n",
    "        x_old = samples[-1]\n",
    "        x_cand = q.rvs(x_old)\n",
    "        acc = q.pdf(x_old,x_cand)*p(x_cand) / q.pdf(x_cand,x_old)*p(x_old)\n",
    "\n",
    "        \n",
    "        if acc >= 1:\n",
    "            samples.append(x_cand)\n",
    "        else:\n",
    "            u = np.random.uniform(0,1)\n",
    "            if u < acc:\n",
    "                samples.append(x_cand)\n",
    "            else:\n",
    "                samples.append(x_old)\n",
    "        \n",
    "    return np.array(samples[warmup+1:])\n",
    "    "
   ]
  },
  {
   "cell_type": "code",
   "execution_count": 90,
   "id": "3bdebfa5",
   "metadata": {},
   "outputs": [
    {
     "data": {
      "image/png": "[encoded data removed]",
      "text/plain": [
       "<Figure size 432x288 with 1 Axes>"
      ]
     },
     "metadata": {
      "needs_background": "light"
     },
     "output_type": "display_data"
    }
   ],
   "source": [
    "sigma = np.array([[1,0],[0,40]])\n",
    "mean = np.array([0,0])\n",
    "p = lambda x: np.exp(-1/2 * (x - mean).T.dot(np.linalg.inv(sigma)).dot((x - mean)))\n",
    "\n",
    "\n",
    "q = multivariate_normal\n",
    "start = np.array([0,0])\n",
    "\n",
    "samples = MH_sampler(p,q,start,5000,10000)\n",
    "\n",
    "plt.plot(samples[:,0], samples[:,1], 'x')\n",
    "\n",
    "plt.gca().set_aspect('equal')"
   ]
  },
  {
   "cell_type": "code",
   "execution_count": null,
   "id": "5f356001",
   "metadata": {},
   "outputs": [],
   "source": []
  }
 ],
 "metadata": {
  "kernelspec": {
   "display_name": "score_sde",
   "language": "python",
   "name": "score_sde"
  },
  "language_info": {
   "codemirror_mode": {
    "name": "ipython",
    "version": 3
   },
   "file_extension": ".py",
   "mimetype": "text/x-python",
   "name": "python",
   "nbconvert_exporter": "python",
   "pygments_lexer": "ipython3",
   "version": "3.8.13"
  }
 },
 "nbformat": 4,
 "nbformat_minor": 5
}
